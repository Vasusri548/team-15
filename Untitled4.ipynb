{
  "nbformat": 4,
  "nbformat_minor": 0,
  "metadata": {
    "colab": {
      "provenance": [],
      "authorship_tag": "ABX9TyMMVBURcDgXNPJ+8NRqb/vP",
      "include_colab_link": true
    },
    "kernelspec": {
      "name": "python3",
      "display_name": "Python 3"
    },
    "language_info": {
      "name": "python"
    }
  },
  "cells": [
    {
      "cell_type": "markdown",
      "metadata": {
        "id": "view-in-github",
        "colab_type": "text"
      },
      "source": [
        "<a href=\"https://colab.research.google.com/github/Vasusri548/team-15/blob/main/Untitled4.ipynb\" target=\"_parent\"><img src=\"https://colab.research.google.com/assets/colab-badge.svg\" alt=\"Open In Colab\"/></a>"
      ]
    },
    {
      "cell_type": "code",
      "execution_count": 1,
      "metadata": {
        "colab": {
          "base_uri": "https://localhost:8080/"
        },
        "id": "zHq2FfpY__Gv",
        "outputId": "4ac43fdc-88f1-450e-9fbb-d8b10d409fdd"
      },
      "outputs": [
        {
          "output_type": "stream",
          "name": "stdout",
          "text": [
            "   Unnamed: 0    SKY AIR-TEMP HUMIDITY    WIND WATER FORECAST ENJOY SPORT\n",
            "0           0  sunny     warm   normal  strong  warm     same         yes\n",
            "1           1  sunny     warm     high  strong  warm     same         yes\n",
            "2           2  rainy     cold     high  strong  warm   change          no\n",
            "3           3  sunny     warm     high  strong  cool   change         yes\n"
          ]
        }
      ],
      "source": [
        "import pandas as pd\n",
        "import numpy as np\n",
        "# Reading the Data\n",
        "data = pd.read_csv(\"/whether dataset.csv\")\n",
        "print(data)"
      ]
    },
    {
      "cell_type": "code",
      "source": [
        "concepts = np.array(data)[:,:-1]\n",
        "print(concepts)"
      ],
      "metadata": {
        "colab": {
          "base_uri": "https://localhost:8080/"
        },
        "id": "lr8tEd_QFIfI",
        "outputId": "05ed404a-8385-44fa-833f-64a7f5582f48"
      },
      "execution_count": 2,
      "outputs": [
        {
          "output_type": "stream",
          "name": "stdout",
          "text": [
            "[[0 'sunny' 'warm' 'normal' 'strong' 'warm' 'same']\n",
            " [1 'sunny' 'warm' 'high' 'strong' 'warm' 'same']\n",
            " [2 'rainy' 'cold' 'high' 'strong' 'warm' 'change']\n",
            " [3 'sunny' 'warm' 'high' 'strong' 'cool' 'change']]\n"
          ]
        }
      ]
    },
    {
      "cell_type": "code",
      "source": [
        "target = np.array(data)[:,-1]\n",
        "print(target)"
      ],
      "metadata": {
        "colab": {
          "base_uri": "https://localhost:8080/"
        },
        "id": "T_hrFS10Fi0J",
        "outputId": "21161d23-4a26-4b9a-af40-7ceaf27e05a8"
      },
      "execution_count": 3,
      "outputs": [
        {
          "output_type": "stream",
          "name": "stdout",
          "text": [
            "['yes' 'yes' 'no' 'yes']\n"
          ]
        }
      ]
    },
    {
      "cell_type": "code",
      "source": [
        "def train(con, tar):\n",
        "  for i, val in enumerate(tar):\n",
        "    if val == 'yes':\n",
        "      specific_h = con[i].copy()\n",
        "      break\n",
        "  return specific_h"
      ],
      "metadata": {
        "id": "Ss-Tfs61FkxZ"
      },
      "execution_count": 7,
      "outputs": []
    },
    {
      "cell_type": "code",
      "source": [
        "print(train(concepts, target))"
      ],
      "metadata": {
        "colab": {
          "base_uri": "https://localhost:8080/"
        },
        "id": "3YCfcx2XG4YZ",
        "outputId": "42f23935-ce84-4b79-ce54-0ec3c9ed4c5a"
      },
      "execution_count": 8,
      "outputs": [
        {
          "output_type": "stream",
          "name": "stdout",
          "text": [
            "[0 'sunny' 'warm' 'normal' 'strong' 'warm' 'same']\n"
          ]
        }
      ]
    }
  ]
}